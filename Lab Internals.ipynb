{
 "cells": [
  {
   "cell_type": "markdown",
   "id": "00872a39-230b-4a98-a9e5-94d21b9ad06f",
   "metadata": {},
   "source": [
    "1.\tDemonstrate runtime reading of Strings. <br/>\n",
    "    i)\tIllustrate the concept of String Slicing.  <br/>\n",
    "    ii)\talso demonstrate a minimum of 5 functions defined on Strings."
   ]
  },
  {
   "cell_type": "code",
   "execution_count": null,
   "id": "bf4d8204-abb5-461c-bbb2-66a23e7ca692",
   "metadata": {},
   "outputs": [
    {
     "name": "stdin",
     "output_type": "stream",
     "text": [
      "Enter a string:  programming\n"
     ]
    },
    {
     "name": "stdout",
     "output_type": "stream",
     "text": [
      "You entered: programming\n",
      "p\n",
      "ming\n",
      "progr\n",
      "gram\n",
      "gnimmargorp\n",
      "PROGRAMMING\n",
      "programming\n",
      "Programming\n",
      "pr0gramming\n",
      "2\n"
     ]
    }
   ],
   "source": [
    "# Reading a string at runtime\n",
    "string_input = input(\"Enter a string: \")\n",
    "print(\"You entered:\", string_input)\n",
    "\n",
    "# String slicing\n",
    "my_string = string_input\n",
    "print(my_string[0])       \n",
    "print(my_string[7:])     \n",
    "print(my_string[:5])      \n",
    "print(my_string[3:7])     \n",
    "print(my_string[::-1])    \n",
    "\n",
    "# Built-in string functions\n",
    "print(my_string.upper())  \n",
    "print(my_string.lower()) \n",
    "print(my_string.capitalize())\n",
    "print(my_string.replace(\"o\", \"0\"))\n",
    "print(my_string.count(\"m\")) \n"
   ]
  },
  {
   "cell_type": "markdown",
   "id": "ab2ace93-5ff1-4f1d-9be0-7cd4424ee200",
   "metadata": {},
   "source": [
    "2.\tWrite a program to add two integers and print the result on the screen. Accept the values at runtime. \n"
   ]
  },
  {
   "cell_type": "code",
   "execution_count": 5,
   "id": "fd3cce7a-72a7-45c1-8978-34fd8740d69e",
   "metadata": {},
   "outputs": [
    {
     "name": "stdin",
     "output_type": "stream",
     "text": [
      "Enter first integer:  9\n",
      "Enter second integer:  4\n"
     ]
    },
    {
     "name": "stdout",
     "output_type": "stream",
     "text": [
      "The sum of 9 and 4 is: 13\n"
     ]
    }
   ],
   "source": [
    "# Accept two integers from user\n",
    "num1 = int(input(\"Enter first integer: \"))\n",
    "num2 = int(input(\"Enter second integer: \"))\n",
    "\n",
    "# Add the integers and print the result\n",
    "result = num1 + num2\n",
    "print(\"The sum of\", num1, \"and\", num2, \"is:\", result)\n"
   ]
  },
  {
   "cell_type": "markdown",
   "id": "dc025aec-26e1-4f28-b34c-2645f8ba9330",
   "metadata": {},
   "source": [
    "3.\tWrite a program to find the largest of two numbers"
   ]
  },
  {
   "cell_type": "code",
   "execution_count": 7,
   "id": "b4ed03ba-d4a3-402e-a2e0-98a4fd463b4c",
   "metadata": {},
   "outputs": [
    {
     "name": "stdin",
     "output_type": "stream",
     "text": [
      "Enter the first number:  7\n",
      "Enter the second number:  9\n"
     ]
    },
    {
     "name": "stdout",
     "output_type": "stream",
     "text": [
      "The largest number is 9.0\n"
     ]
    }
   ],
   "source": [
    "# Find the largest of two numbers entered by the user\n",
    "num1 = float(input(\"Enter the first number: \"))\n",
    "num2 = float(input(\"Enter the second number: \"))\n",
    "\n",
    "if num1 > num2:\n",
    "    print(\"The largest number is\", num1)\n",
    "elif num2 > num1:\n",
    "    print(\"The largest number is\", num2)\n",
    "else:\n",
    "    print(\"Both numbers are equal\")\n"
   ]
  },
  {
   "cell_type": "markdown",
   "id": "e49c12e2-febc-4f5d-951a-ff4b4ecf1a32",
   "metadata": {},
   "source": [
    "4.\tWrite a program to find the biggest of three numbers "
   ]
  },
  {
   "cell_type": "code",
   "execution_count": 8,
   "id": "a1b2f7f4-feb4-48a7-845c-38cf477bb46c",
   "metadata": {},
   "outputs": [
    {
     "name": "stdin",
     "output_type": "stream",
     "text": [
      "Enter the first number:  4\n",
      "Enter the second number:  9\n",
      "Enter the third number:  1\n"
     ]
    },
    {
     "name": "stdout",
     "output_type": "stream",
     "text": [
      "The largest number is 9.0\n"
     ]
    }
   ],
   "source": [
    "# Find the largest of three numbers entered by the user\n",
    "num1 = float(input(\"Enter the first number: \"))\n",
    "num2 = float(input(\"Enter the second number: \"))\n",
    "num3 = float(input(\"Enter the third number: \"))\n",
    "\n",
    "if num1 > num2:\n",
    "    if num1 > num3:\n",
    "        print(\"The largest number is\", num1)\n",
    "    else:\n",
    "        print(\"The largest number is\", num3)\n",
    "elif num2 > num3:\n",
    "    print(\"The largest number is\", num2)\n",
    "else:\n",
    "    print(\"The largest number is\", num3)\n"
   ]
  },
  {
   "cell_type": "markdown",
   "id": "204db4c2-cc46-45de-b1b5-db394f06a629",
   "metadata": {},
   "source": [
    "5.\tShow the different operations defined on Lists, Tuples and Dictionaries"
   ]
  },
  {
   "cell_type": "code",
   "execution_count": 14,
   "id": "d2062b8e-d44e-42e3-beaa-b2202a56d958",
   "metadata": {},
   "outputs": [
    {
     "name": "stdout",
     "output_type": "stream",
     "text": [
      "[1, 4, 90, 88, 69, 57, 68, 22, 90, 10]\n",
      "[99, 28, 100, 890, 1098]\n",
      "summation of 2 lists : [1, 4, 90, 88, 69, 57, 68, 22, 90, 10, 99, 28, 100, 890, 1098]\n",
      "largest element from the combined list :  1\n",
      "least element from the combined list :  1098\n",
      "reverse of the conbined list : [1098, 890, 100, 28, 99, 10, 90, 22, 68, 57, 69, 88, 90, 4, 1]\n",
      "[1098, 890, 100, 28, 99, 10, 90, 22, 68, 57, 69, 88, 90, 4, 1, 3]\n",
      "list after popping : [1098, 890, 100, 99, 10, 90, 22, 68, 57, 69, 88, 90, 4, 1, 3]\n",
      "printing -5 element : 88\n",
      "sorted combined list :  [1, 3, 4, 10, 22, 57, 68, 69, 88, 90, 90, 99, 100, 890, 1098]\n"
     ]
    }
   ],
   "source": [
    "list1 = [1, 4, 90, 88, 69, 57, 68, 22, 90, 10]\n",
    "print(list1)\n",
    "list2 = [99, 28, 100, 890, 1098]\n",
    "print(list2)\n",
    "list3 = list1 + list2\n",
    "print(\"summation of 2 lists :\", list3)\n",
    "print(\"largest element from the combined list : \" ,min(list3))\n",
    "print(\"least element from the combined list : \", max(list3))\n",
    "list3.reverse()\n",
    "print(\"reverse of the conbined list :\", list3)\n",
    "list3.insert(15, 3)\n",
    "print(list3)\n",
    "list3.pop(3)\n",
    "print(\"list after popping :\", list3)\n",
    "print(\"printing -5 element :\", list3[-5])\n",
    "list3.sort()\n",
    "print(\"sorted combined list : \",list3)"
   ]
  },
  {
   "cell_type": "code",
   "execution_count": 16,
   "id": "b429fe8d-3d96-4361-98f7-fa3aeb221831",
   "metadata": {},
   "outputs": [
    {
     "name": "stdout",
     "output_type": "stream",
     "text": [
      "['mackbook', '20-30', '456789', '2023']\n",
      "['macbook', 'pallavi', 'cbpur', '345678987', 'pallavis@gmail.com', '3456789876', '1', '19']\n",
      "19\n",
      "13\n",
      "['macbook', 'pallavi', 'blore', '345678987', 'pallavis@gmail.com', '3456789876', '1', '19', 13]\n"
     ]
    }
   ],
   "source": [
    "product=[\"mackbook\",\"20-30\",\"456789\",\"2023\"]\n",
    "print(product)\n",
    "product_list=[\"macbook\",\"pallavi\",\"cbpur\",\"345678987\",\"pallavis@gmail.com\",\"3456789876\",\"1\",\"19\"]\n",
    "print(product_list)\n",
    "print(product_list[-1])\n",
    "product_list.append(13)\n",
    "print(product_list[-1])\n",
    "product_list[2]=\"blore\"\n",
    "print(product_list)"
   ]
  },
  {
   "cell_type": "code",
   "execution_count": 20,
   "id": "d5303db1-ece3-44d1-9cfd-d3186a19277e",
   "metadata": {},
   "outputs": [
    {
     "name": "stdout",
     "output_type": "stream",
     "text": [
      "{'student': 'Pallu', 'Sem': 4, 'Course': 'BCA', 'Age': 19}\n",
      "4\n",
      "4\n",
      "student\n",
      "Sem\n",
      "Course\n",
      "Age\n",
      "Occupation\n",
      "Pallu\n",
      "4\n",
      "BCA\n",
      "19\n",
      "Engineer\n",
      "student Pallu\n",
      "Sem 4\n",
      "Course BCA\n",
      "Age 19\n",
      "Occupation Engineer\n"
     ]
    }
   ],
   "source": [
    "my_dict = {\n",
    "    \"student\" : \"Pallu\",\n",
    "    \"Sem\" : 4,\n",
    "    \"Course\" : \"BCA\",\n",
    "    \"Age\" : 19\n",
    "}\n",
    "print(my_dict)\n",
    "print(my_dict[\"Sem\"])\n",
    "print(len(my_dict))\n",
    "# Add a new key-value pair to the dictionary\n",
    "my_dict['Occupation'] = 'Engineer'\n",
    "\n",
    "# Iterate over the keys in the dictionary\n",
    "for key in my_dict.keys():\n",
    "    print(key)\n",
    "\n",
    "# Iterate over the values in the dictionary\n",
    "for value in my_dict.values():\n",
    "    print(value)\n",
    "\n",
    "# Iterate over the key-value pairs in the dictionary\n",
    "for key, value in my_dict.items():\n",
    "    print(key, value)\n"
   ]
  },
  {
   "cell_type": "markdown",
   "id": "4da0a3c4-459e-4d6f-9739-22b58e7c154e",
   "metadata": {},
   "source": [
    "6.\tWrite a program to find the factorial of a number using functions and without using functions. Accept the input at runtime."
   ]
  },
  {
   "cell_type": "code",
   "execution_count": 10,
   "id": "55232ca2-7beb-44e4-a848-1fe2f25cc106",
   "metadata": {},
   "outputs": [
    {
     "name": "stdin",
     "output_type": "stream",
     "text": [
      "Enter a number to find its factorial:  5\n"
     ]
    },
    {
     "name": "stdout",
     "output_type": "stream",
     "text": [
      "Factorial of 5 is 120\n"
     ]
    }
   ],
   "source": [
    "def factorial(num):\n",
    "    if num == 0:\n",
    "        return 1\n",
    "    else:\n",
    "        return num * factorial(num-1)\n",
    "\n",
    "# Accept input from user\n",
    "num = int(input(\"Enter a number to find its factorial: \"))\n",
    "\n",
    "# Call the function and print the result\n",
    "print(\"Factorial of\", num, \"is\", factorial(num))\n"
   ]
  },
  {
   "cell_type": "code",
   "execution_count": 11,
   "id": "a273a814-663a-4550-9381-1da33b2e98eb",
   "metadata": {},
   "outputs": [
    {
     "name": "stdin",
     "output_type": "stream",
     "text": [
      "Enter a number to find its factorial:  5\n"
     ]
    },
    {
     "name": "stdout",
     "output_type": "stream",
     "text": [
      "Factorial of 5 is 120\n"
     ]
    }
   ],
   "source": [
    "# Accept input from user\n",
    "num = int(input(\"Enter a number to find its factorial: \"))\n",
    "\n",
    "fact = 1\n",
    "\n",
    "# Calculate factorial\n",
    "if num < 0:\n",
    "    print(\"Factorial of negative numbers doesn't exist.\")\n",
    "elif num == 0:\n",
    "    print(\"Factorial of 0 is 1.\")\n",
    "else:\n",
    "    for i in range(1, num + 1):\n",
    "        fact = fact * i\n",
    "\n",
    "# Print the result\n",
    "print(\"Factorial of\", num, \"is\", fact)\n"
   ]
  },
  {
   "cell_type": "code",
   "execution_count": null,
   "id": "0209e1a9-5570-473e-9312-61b8c00a5d2f",
   "metadata": {},
   "outputs": [],
   "source": []
  }
 ],
 "metadata": {
  "kernelspec": {
   "display_name": "Python 3 (ipykernel)",
   "language": "python",
   "name": "python3"
  },
  "language_info": {
   "codemirror_mode": {
    "name": "ipython",
    "version": 3
   },
   "file_extension": ".py",
   "mimetype": "text/x-python",
   "name": "python",
   "nbconvert_exporter": "python",
   "pygments_lexer": "ipython3",
   "version": "3.10.7"
  }
 },
 "nbformat": 4,
 "nbformat_minor": 5
}
