{
 "cells": [
  {
   "cell_type": "code",
   "execution_count": 12,
   "id": "d95dc10f-8212-46ef-a221-25b9452fe8e7",
   "metadata": {},
   "outputs": [
    {
     "name": "stdout",
     "output_type": "stream",
     "text": [
      "\n",
      ". . .\n",
      ". . .\n",
      ". . .\n"
     ]
    },
    {
     "name": "stdin",
     "output_type": "stream",
     "text": [
      "\n",
      "Player 1 what do you play ?  9\n"
     ]
    },
    {
     "name": "stdout",
     "output_type": "stream",
     "text": [
      "\n",
      "Move #1: player 1 plays 9 :\n",
      "\n",
      ". . .\n",
      ". . .\n",
      ". . O\n",
      "\n",
      "Move #2: player 2 plays 5 :\n",
      "\n",
      ". . .\n",
      ". X .\n",
      ". . O\n"
     ]
    },
    {
     "name": "stdin",
     "output_type": "stream",
     "text": [
      "\n",
      "Player 1 what do you play ?  1\n"
     ]
    },
    {
     "name": "stdout",
     "output_type": "stream",
     "text": [
      "\n",
      "Move #3: player 1 plays 1 :\n",
      "\n",
      "O . .\n",
      ". X .\n",
      ". . O\n",
      "\n",
      "Move #4: player 2 plays 2 :\n",
      "\n",
      "O X .\n",
      ". X .\n",
      ". . O\n"
     ]
    },
    {
     "name": "stdin",
     "output_type": "stream",
     "text": [
      "\n",
      "Player 1 what do you play ?  8\n"
     ]
    },
    {
     "name": "stdout",
     "output_type": "stream",
     "text": [
      "\n",
      "Move #5: player 1 plays 8 :\n",
      "\n",
      "O X .\n",
      ". X .\n",
      ". O O\n",
      "\n",
      "Move #6: player 2 plays 7 :\n",
      "\n",
      "O X .\n",
      ". X .\n",
      "X O O\n"
     ]
    },
    {
     "name": "stdin",
     "output_type": "stream",
     "text": [
      "\n",
      "Player 1 what do you play ?  3\n"
     ]
    },
    {
     "name": "stdout",
     "output_type": "stream",
     "text": [
      "\n",
      "Move #7: player 1 plays 3 :\n",
      "\n",
      "O X O\n",
      ". X .\n",
      "X O O\n",
      "\n",
      "Move #8: player 2 plays 6 :\n",
      "\n",
      "O X O\n",
      ". X X\n",
      "X O O\n"
     ]
    },
    {
     "name": "stdin",
     "output_type": "stream",
     "text": [
      "\n",
      "Player 1 what do you play ?  4\n"
     ]
    },
    {
     "name": "stdout",
     "output_type": "stream",
     "text": [
      "\n",
      "Move #9: player 1 plays 4 :\n",
      "\n",
      "O X O\n",
      "O X X\n",
      "X O O\n"
     ]
    }
   ],
   "source": [
    "class TicTacToe(TwoPlayerGame):\n",
    "    \"\"\"\n",
    "    the board positions are numbered as follows:\n",
    "    1 2 3\n",
    "    4 5 6\n",
    "    7 8 9\n",
    "    \"\"\"\n",
    "    def __init__(self, players):\n",
    "        self.players = players\n",
    "        self.board = [0 for i in range(9)]\n",
    "        self.current_player = 1 # player 1 starts.\n",
    "    def possible_moves(self):\n",
    "        return [i + 1 for i, e in enumerate(self.board) if e == 0]\n",
    "    def make_move(self, move):\n",
    "        self.board[int(move) - 1]= self.current_player\n",
    "    def unmake_move(self, move): \n",
    "        self.board[int(move) - 1]=0\n",
    "    def lose(self):\n",
    "        # has the opponent \"three in line ?\"\n",
    "        return any(\n",
    "            [\n",
    "                all([(self.board[c -1]== self.opponent_index) for c in line])\n",
    "                for line in [\n",
    "                    [1, 2, 3],\n",
    "                    [4, 5, 6],\n",
    "                    [7, 8, 9], # horiz\n",
    "                    [1, 4, 7],\n",
    "                    [2, 5, 8],\n",
    "                    [3, 6, 9], #vertical\n",
    "                    [1, 5, 9],\n",
    "                    [3, 5, 7],\n",
    "                ]\n",
    "            ]\n",
    "        ) # diagnal\n",
    "    def is_over(self):\n",
    "        return (self.possible_moves() == []) or self.lose()\n",
    "    def show(self):\n",
    "        print(\n",
    "            \"\\n\"\n",
    "            + \"\\n\".join(\n",
    "                [\n",
    "                    \" \".join([[\".\",\"O\",\"X\"][self.board[3 * j + i]] for i in range(3)])\n",
    "                    for j in range(3)\n",
    "                ]\n",
    "            )\n",
    "        )\n",
    "    def scoring(self):\n",
    "        return -100 if self.lose() else 0\n",
    "if __name__ == \"__main__\":\n",
    "    \n",
    "    from easyAI import AI_Player, Negamax\n",
    "    \n",
    "    ai_algo = Negamax(6)\n",
    "    TicTacToe([Human_Player(), AI_Player(ai_algo)]).play()\n",
    "    \n",
    "    "
   ]
  },
  {
   "cell_type": "code",
   "execution_count": 3,
   "id": "53005dcb-8558-4017-b590-10c4ffca0744",
   "metadata": {},
   "outputs": [],
   "source": [
    "from easyAI import TwoPlayerGame\n",
    "from easyAI.Player import Human_Player"
   ]
  },
  {
   "cell_type": "code",
   "execution_count": null,
   "id": "6a847532-5a7e-4724-93f1-547835ce56cd",
   "metadata": {},
   "outputs": [],
   "source": []
  }
 ],
 "metadata": {
  "kernelspec": {
   "display_name": "Python 3 (ipykernel)",
   "language": "python",
   "name": "python3"
  },
  "language_info": {
   "codemirror_mode": {
    "name": "ipython",
    "version": 3
   },
   "file_extension": ".py",
   "mimetype": "text/x-python",
   "name": "python",
   "nbconvert_exporter": "python",
   "pygments_lexer": "ipython3",
   "version": "3.11.0"
  }
 },
 "nbformat": 4,
 "nbformat_minor": 5
}
