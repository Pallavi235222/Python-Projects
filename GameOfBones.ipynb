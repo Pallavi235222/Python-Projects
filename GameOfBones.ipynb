{
 "cells": [
  {
   "cell_type": "code",
   "execution_count": 9,
   "id": "cf76c498-72b7-42ae-b2b1-ec0dd35ee78a",
   "metadata": {},
   "outputs": [
    {
     "name": "stdout",
     "output_type": "stream",
     "text": [
      "d:2, a:0, m:1\n",
      "d:3, a:0, m:1\n",
      "d:4, a:0, m:1\n",
      "d:5, a:0, m:1\n",
      "d:6, a:0, m:1\n",
      "d:7, a:0, m:1\n",
      "d:8, a:0, m:1\n",
      "d:9, a:0, m:1\n",
      "d:10, a:100, m:3\n",
      "1 10 3\n",
      "20 bones lef in the pile\n",
      "\n",
      "Move #1: player 1 plays 3 :\n",
      "17 bones lef in the pile\n"
     ]
    },
    {
     "name": "stdin",
     "output_type": "stream",
     "text": [
      "\n",
      "Player 2 what do you play ?  3\n"
     ]
    },
    {
     "name": "stdout",
     "output_type": "stream",
     "text": [
      "\n",
      "Move #2: player 2 plays 3 :\n",
      "14 bones lef in the pile\n",
      "\n",
      "Move #3: player 1 plays 1 :\n",
      "13 bones lef in the pile\n"
     ]
    },
    {
     "name": "stdin",
     "output_type": "stream",
     "text": [
      "\n",
      "Player 2 what do you play ?  1\n"
     ]
    },
    {
     "name": "stdout",
     "output_type": "stream",
     "text": [
      "\n",
      "Move #4: player 2 plays 1 :\n",
      "12 bones lef in the pile\n",
      "\n",
      "Move #5: player 1 plays 3 :\n",
      "9 bones lef in the pile\n"
     ]
    },
    {
     "name": "stdin",
     "output_type": "stream",
     "text": [
      "\n",
      "Player 2 what do you play ?  5\n",
      "\n",
      "Player 2 what do you play ?  3\n"
     ]
    },
    {
     "name": "stdout",
     "output_type": "stream",
     "text": [
      "\n",
      "Move #6: player 2 plays 3 :\n",
      "6 bones lef in the pile\n",
      "\n",
      "Move #7: player 1 plays 1 :\n",
      "5 bones lef in the pile\n"
     ]
    },
    {
     "name": "stdin",
     "output_type": "stream",
     "text": [
      "\n",
      "Player 2 what do you play ?  3\n"
     ]
    },
    {
     "name": "stdout",
     "output_type": "stream",
     "text": [
      "\n",
      "Move #8: player 2 plays 3 :\n",
      "2 bones lef in the pile\n",
      "\n",
      "Move #9: player 1 plays 1 :\n",
      "1 bones lef in the pile\n"
     ]
    },
    {
     "name": "stdin",
     "output_type": "stream",
     "text": [
      "\n",
      "Player 2 what do you play ?  6\n",
      "\n",
      "Player 2 what do you play ?  3\n"
     ]
    },
    {
     "name": "stdout",
     "output_type": "stream",
     "text": [
      "\n",
      "Move #10: player 2 plays 3 :\n",
      "-2 bones lef in the pile\n"
     ]
    }
   ],
   "source": [
    "from easyAI import TwoPlayerGame\n",
    "\n",
    "class GameOfBones(TwoPlayerGame):\n",
    "    ## In turn, the player remove one, two oe three bones from a pile of bones.\n",
    "    #The player who removes the last bone loses.\n",
    "    def __init__(self, players=None):\n",
    "        self.players = players\n",
    "        self.pile = 20\n",
    "        self.current_player = 1\n",
    "    def possible_moves(self):\n",
    "        return ['1', '2', '3']\n",
    "\n",
    "    def make_move(self, move):\n",
    "        self.pile -= int(move)\n",
    "    def win(self):\n",
    "        return self.pile <= 0\n",
    "    def is_over(self):\n",
    "        return self.win()\n",
    "    def scoring(self):\n",
    "        return 100 if self.win() else 0\n",
    "    def show(self):\n",
    "        print(\"%d bones lef in the pile\" % (self.pile))\n",
    "if __name__ == \"__main__\":\n",
    "    '''\n",
    "    Start a match (and store the history of moves when it ends)\n",
    "    ai=Negamax(10) # the AI will think 10 moves in advance\n",
    "    game = GmaeOfBones( [ AI_Player(ai), Human_Player()])\n",
    "    history = game.play()\n",
    "    '''\n",
    "    from easyAI import solve_with_iterative_deepening, Human_Player, AI_Player\n",
    "    from easyAI.AI import TranspositionTable\n",
    "\n",
    "    tt = TranspositionTable()\n",
    "    GameOfBones.ttentry = lambda self: self.pile\n",
    "    r, d, m = solve_with_iterative_deepening(\n",
    "        GameOfBones(), range(2, 20), win_score=100, tt=tt\n",
    "    )\n",
    "    print(r,d,m)\n",
    "\n",
    "    game = GameOfBones([AI_Player(tt), Human_Player()])\n",
    "    game.play()"
   ]
  },
  {
   "cell_type": "code",
   "execution_count": null,
   "id": "c3843b10-5066-4226-983a-c86fe9254f56",
   "metadata": {},
   "outputs": [],
   "source": []
  }
 ],
 "metadata": {
  "kernelspec": {
   "display_name": "Python 3 (ipykernel)",
   "language": "python",
   "name": "python3"
  },
  "language_info": {
   "codemirror_mode": {
    "name": "ipython",
    "version": 3
   },
   "file_extension": ".py",
   "mimetype": "text/x-python",
   "name": "python",
   "nbconvert_exporter": "python",
   "pygments_lexer": "ipython3",
   "version": "3.11.0"
  }
 },
 "nbformat": 4,
 "nbformat_minor": 5
} 
